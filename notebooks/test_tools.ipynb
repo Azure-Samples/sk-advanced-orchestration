{
 "cells": [
  {
   "cell_type": "code",
   "execution_count": 8,
   "metadata": {},
   "outputs": [
    {
     "name": "stdout",
     "output_type": "stream",
     "text": [
      "The autoreload extension is already loaded. To reload it, use:\n",
      "  %reload_ext autoreload\n"
     ]
    }
   ],
   "source": [
    "%load_ext autoreload\n",
    "%autoreload 2"
   ]
  },
  {
   "cell_type": "code",
   "execution_count": 9,
   "metadata": {},
   "outputs": [
    {
     "data": {
      "text/plain": [
       "True"
      ]
     },
     "execution_count": 9,
     "metadata": {},
     "output_type": "execute_result"
    }
   ],
   "source": [
    "from dotenv import load_dotenv\n",
    "load_dotenv(override=True)"
   ]
  },
  {
   "cell_type": "code",
   "execution_count": 10,
   "metadata": {},
   "outputs": [],
   "source": [
    "import os\n",
    "from openai import AsyncAzureOpenAI\n",
    "from semantic_kernel.kernel import Kernel\n",
    "from semantic_kernel.connectors.ai.open_ai import AzureChatCompletion\n",
    "from azure.identity import DefaultAzureCredential, get_bearer_token_provider\n",
    "\n",
    "# See https://techcommunity.microsoft.com/blog/azuredevcommunityblog/using-keyless-authentication-with-azure-openai/4111521\n",
    "credential = DefaultAzureCredential()\n",
    "token_provider = get_bearer_token_provider(\n",
    "    credential, \"https://cognitiveservices.azure.com/.default\"\n",
    ")\n",
    "\n",
    "\n",
    "def create_kernel(service_id: str = \"default\") -> Kernel:\n",
    "    kernel = Kernel()\n",
    "\n",
    "    client = AsyncAzureOpenAI(\n",
    "        azure_endpoint=os.getenv(\"AZURE_OPENAI_ENDPOINT\"),\n",
    "        azure_deployment=os.getenv(\"AZURE_OPENAI_MODEL\"),\n",
    "        azure_ad_token_provider=token_provider,\n",
    "        api_version=os.getenv(\"AZURE_OPENAI_API_VERSION\"),\n",
    "    )\n",
    "\n",
    "    kernel.add_service(\n",
    "        AzureChatCompletion(\n",
    "            deployment_name=os.getenv(\"AZURE_OPENAI_MODEL\"),\n",
    "            async_client=client,\n",
    "            service_id=service_id,\n",
    "        )\n",
    "    )\n",
    "\n",
    "    return kernel\n"
   ]
  },
  {
   "cell_type": "code",
   "execution_count": 11,
   "metadata": {},
   "outputs": [],
   "source": [
    "from typing import Annotated\n",
    "from semantic_kernel.agents import ChatCompletionAgent\n",
    "from semantic_kernel.connectors.ai import (\n",
    "    FunctionChoiceBehavior,\n",
    "    PromptExecutionSettings,\n",
    ")\n",
    "from semantic_kernel.functions import kernel_function, KernelArguments\n",
    "import json\n",
    "\n",
    "\n",
    "class BillingAgentPlugin:\n",
    "    @kernel_function(description=\"Retrieve payment methods for a customer\")\n",
    "    def get_payment_methods(\n",
    "        self,\n",
    "        customer_id: Annotated[\n",
    "            str, \"The ID of the customer to get the payment methods for\"\n",
    "        ],\n",
    "    ) -> Annotated[str, \"The payment methods available for the specified customer\"]:\n",
    "        return \"credit_card, paypal, bank_transfer\"\n",
    "\n",
    "\n",
    "billing_agent_kernel = create_kernel()\n",
    "\n",
    "billing_agent_kernel.add_plugin(BillingAgentPlugin(), plugin_name=\"BillingAgent\")\n",
    "settings = billing_agent_kernel.get_prompt_execution_settings_from_service_id(\n",
    "    service_id='default')\n",
    "settings.function_choice_behavior = FunctionChoiceBehavior.Auto()\n",
    "\n",
    "billing_agent = ChatCompletionAgent(\n",
    "    description=\"A billing support agent that can answer billing-related questions, like invoices, payment methods, and usage metrics\",\n",
    "    id=\"billing\",\n",
    "    name=\"Billing\",\n",
    "    kernel=billing_agent_kernel,\n",
    "    arguments=KernelArguments(settings=settings),\n",
    "    instructions=\"\"\"\n",
    "    You are a billing support agent that responds to customer inquiries.\n",
    "    \n",
    "    Your tasks are:\n",
    "    - Retrieve the last invoice for a customer\n",
    "    - Provide available payment methods for a customer\n",
    "    - Change the payment method for a customer\n",
    "    - Provide usage metrics for telco services (voice, data, SMS)\n",
    "    - Handle disputes and billing inquiries\n",
    "    - Provide billing-related information and support\n",
    "    \n",
    "    Rules:\n",
    "    - Make sure to act politely and professionally.\n",
    "    \"\"\",\n",
    ")\n"
   ]
  },
  {
   "cell_type": "code",
   "execution_count": 12,
   "metadata": {},
   "outputs": [],
   "source": [
    "# # Single agent works\n",
    "# from semantic_kernel.contents import ChatHistory\n",
    "\n",
    "# history = ChatHistory()\n",
    "# history.add_user_message(\"My customer code is 12345. Tell me my usage metrics\")\n",
    "\n",
    "# async for result in billing_agent.invoke(history=history):\n",
    "#     print(f\"Result: {result}\")"
   ]
  },
  {
   "cell_type": "code",
   "execution_count": 13,
   "metadata": {},
   "outputs": [],
   "source": [
    "from semantic_kernel.agents import AgentGroupChat\n",
    "from semantic_kernel.agents.strategies import SequentialSelectionStrategy, DefaultTerminationStrategy\n",
    "\n",
    "chat = AgentGroupChat(\n",
    "        agents=[billing_agent],\n",
    "        termination_strategy=DefaultTerminationStrategy(maximum_iterations=2),\n",
    "        selection_strategy=SequentialSelectionStrategy(),\n",
    "    )\n"
   ]
  },
  {
   "cell_type": "code",
   "execution_count": 14,
   "metadata": {},
   "outputs": [
    {
     "name": "stdout",
     "output_type": "stream",
     "text": [
      "Result: Your available payment methods are:\n",
      "- Credit Card\n",
      "- PayPal\n",
      "- Bank Transfer\n",
      "\n",
      "Let me know if you'd like to make any changes to your payment method!\n",
      "Result: Your available payment methods are:\n",
      "- Credit Card\n",
      "- PayPal\n",
      "- Bank Transfer\n",
      "\n",
      "If you'd like to know your current payment method, let me know!\n"
     ]
    }
   ],
   "source": [
    "from semantic_kernel.contents import AuthorRole, ChatMessageContent\n",
    "await chat.reset()\n",
    "await chat.add_chat_message(ChatMessageContent(role=AuthorRole.USER, content=\"My customer code is 12345. Tell me my payment method\"))\n",
    "async for result in chat.invoke():\n",
    "    print(f\"Result: {result}\")"
   ]
  }
 ],
 "metadata": {
  "kernelspec": {
   "display_name": ".venv",
   "language": "python",
   "name": "python3"
  },
  "language_info": {
   "codemirror_mode": {
    "name": "ipython",
    "version": 3
   },
   "file_extension": ".py",
   "mimetype": "text/x-python",
   "name": "python",
   "nbconvert_exporter": "python",
   "pygments_lexer": "ipython3",
   "version": "3.13.2"
  }
 },
 "nbformat": 4,
 "nbformat_minor": 2
}
